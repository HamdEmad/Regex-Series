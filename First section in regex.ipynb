{
 "cells": [
  {
   "cell_type": "markdown",
   "id": "bd802d38",
   "metadata": {},
   "source": [
    "# Regular Experssion ( Regex )\n",
    "من اقوي الادوات للتعامل مع النصوص وتكمن قوتها في تحديد الانماط, ولكن مش هي اللي بتحدد النمط لا انت بتححد نمط معين وتقدر تديه لها تطبقة علي نص وتجبلك اي نص بيطابق النمط دا "
   ]
  },
  {
   "cell_type": "markdown",
   "id": "3d3c56f2",
   "metadata": {
    "ExecuteTime": {
     "end_time": "2025-02-23T11:02:54.716209Z",
     "start_time": "2025-02-23T11:02:54.695686Z"
    }
   },
   "source": [
    "مثلا عندي داتا خاصة بعملاء كتير جدا وعايز استخرج منها الاميل الخاص بكل عميل\n",
    "\n",
    "بكل بساطة لما افكر في الموضوع هلاقي ان الاميل بيتبع نمط زي دا\n",
    "\n",
    "**` حروف@حروف.com `**\n",
    "\n",
    "ان عندها القدرة تعبر عن كل حاجة في النص برموز معينة regexوهنا تكمن قوة ال "
   ]
  },
  {
   "cell_type": "markdown",
   "id": "784c4a62",
   "metadata": {},
   "source": [
    "# Regex in Python\n",
    "**خلينا نعرف ازاي نستخدمها في بايثون الاول regex قبل ان نبداء في شرح ال** "
   ]
  },
  {
   "cell_type": "code",
   "execution_count": 2,
   "id": "31e1628d",
   "metadata": {
    "ExecuteTime": {
     "end_time": "2025-02-23T11:12:12.192316Z",
     "start_time": "2025-02-23T11:12:12.187478Z"
    }
   },
   "outputs": [],
   "source": [
    "# re تاتي في لغات البرمجة في هيئة مكتبة وهنا في بايثون اسمها  regex اول حاجة \n",
    "# يبقي اول حاجة هنستعدي المكتبة دي الاول\n",
    "import re"
   ]
  },
  {
   "cell_type": "code",
   "execution_count": 14,
   "id": "8a415f7a",
   "metadata": {
    "ExecuteTime": {
     "end_time": "2025-02-23T12:22:16.973206Z",
     "start_time": "2025-02-23T12:22:16.969764Z"
    }
   },
   "outputs": [],
   "source": [
    "#findall() كتير هنتعرف عليها لكن عشان نشتغل الوقت خلينا نتعرف علي واحدة بس وهي  methods في اكتر من\n",
    "#re.findall() بتاخد حاجتين اساسيتين وهي النمط اول حاجة والنص اللي هتبحث فيه عشان تطابق النمط\n",
    "#re.findall(النص , النمط )\n",
    "# text خلينا نفترض ان عندنا نص في متغير اسمه  \n",
    "\n",
    "text= \"\"\"\n",
    "user12@mail.com\n",
    "jogn2004@gmail.com\n",
    "mohamed123456@mail.com\n",
    "medo.medo@org.eypt\n",
    "ahmed#gmail.com\n",
    "\"\"\""
   ]
  },
  {
   "attachments": {},
   "cell_type": "markdown",
   "id": "8ac57087",
   "metadata": {},
   "source": [
    "# Characters in Regex\n",
    "**regex ازاي نقدر نعبر عن النصوص في** \n"
   ]
  },
  {
   "cell_type": "markdown",
   "id": "b7d7bc35",
   "metadata": {},
   "source": [
    "## 1- Literal characters\n",
    "الحروف نفسها  regex ودي اول حاجة ان ادخل لل   "
   ]
  },
  {
   "cell_type": "code",
   "execution_count": 15,
   "id": "750de7c6",
   "metadata": {
    "ExecuteTime": {
     "end_time": "2025-02-23T12:22:17.935910Z",
     "start_time": "2025-02-23T12:22:17.929770Z"
    },
    "scrolled": true
   },
   "outputs": [
    {
     "data": {
      "text/plain": [
       "['user12@mail.com']"
      ]
     },
     "execution_count": 15,
     "metadata": {},
     "output_type": "execute_result"
    }
   ],
   "source": [
    "#زي مثلا اكتب الميل زي ما هو\n",
    "# pat خلينا نكتب النمط بتاعنا في نتغير اسمه \n",
    "pat= 'user12@mail.com'\n",
    "#ونديها النمط والنص findall() هنا نبداء نستدعي \n",
    "re.findall(pat, text)"
   ]
  },
  {
   "cell_type": "markdown",
   "id": "3d5d7cec",
   "metadata": {},
   "source": [
    "**لاحظنا هنا بالفعل عمل تطابق للنمط اللي دخلناه لكن الطريقة دي مش هتفنع معانا لان كدا هنكتب كل الميلات بايدينا**"
   ]
  },
  {
   "attachments": {
    "image-3.png": {
     "image/png": "[encoded data removed]"
    }
   },
   "cell_type": "markdown",
   "id": "11a7866c",
   "metadata": {},
   "source": [
    "## 2- Shorthand character sets\n",
    "![image-3.png](attachment:image-3.png)\n",
    "\n",
    "**regex وهنا هنبداء نتعرف علي اول رموز ال** "
   ]
  },
  {
   "cell_type": "code",
   "execution_count": 16,
   "id": "31d5233b",
   "metadata": {
    "ExecuteTime": {
     "end_time": "2025-02-23T12:22:20.976805Z",
     "start_time": "2025-02-23T12:22:20.970259Z"
    },
    "scrolled": true
   },
   "outputs": [
    {
     "data": {
      "text/plain": [
       "['12', '20', '04', '12', '34', '56']"
      ]
     },
     "execution_count": 16,
     "metadata": {},
     "output_type": "execute_result"
    }
   ],
   "source": [
    "# ودا اول رمز بقدر اعبر بيه عن اي رقم زي 0,1,2 وهكذا \\d \n",
    "# خلنا مثلا نكتب نمط يجبنا اي رقمين ورا بعض\n",
    "pat= '\\d\\d'\n",
    "re.findall(pat, text)"
   ]
  },
  {
   "cell_type": "markdown",
   "id": "8b1fc1a3",
   "metadata": {},
   "source": [
    "واحدة بتمثل رقم واحد فقط\\d مرتين طب ليه عشان \\d نلاحظ هنا ان النمط كررنا "
   ]
  },
  {
   "cell_type": "code",
   "execution_count": 17,
   "id": "4580cc5b",
   "metadata": {
    "ExecuteTime": {
     "end_time": "2025-02-23T12:22:57.822853Z",
     "start_time": "2025-02-23T12:22:57.817812Z"
    }
   },
   "outputs": [
    {
     "data": {
      "text/plain": [
       "['apple', 'abble', 'attle']"
      ]
     },
     "execution_count": 17,
     "metadata": {},
     "output_type": "execute_result"
    }
   ],
   "source": [
    "#  او من 0-9  a-z  ودي تمثل اي حرف او رقم يعني من\\w تاني حاجة  \n",
    "#attle او abble  او  apple مثال عندي مثلا عايز اطابق كلمة \n",
    "pat= 'a\\w\\wle'\n",
    "text= 'apple is fruits but abble not is wrong and attle also wrong'\n",
    "re.findall(pat, text)"
   ]
  },
  {
   "cell_type": "markdown",
   "id": "dcde0151",
   "metadata": {},
   "source": [
    "**\\w وهنا نفس الشي برضو نلاحظ كررنا**"
   ]
  },
  {
   "cell_type": "markdown",
   "id": "6185a4d5",
   "metadata": {},
   "source": [
    "## 3- Repetition metacharacters"
   ]
  },
  {
   "cell_type": "code",
   "execution_count": 18,
   "id": "8cf03774",
   "metadata": {
    "ExecuteTime": {
     "end_time": "2025-02-23T12:30:47.109404Z",
     "start_time": "2025-02-23T12:30:47.103528Z"
    }
   },
   "outputs": [
    {
     "data": {
      "text/plain": [
       "['pp']"
      ]
     },
     "execution_count": 18,
     "metadata": {},
     "output_type": "execute_result"
    }
   ],
   "source": [
    "# فيها رموز بتعمل تكرار عشان مش نضطر نكرر بأيدينا regexواكيد طبعا ال \n",
    "# وفي اكتر من  رمز للتكرار لكن هناخد + بس حاليا ونعرف استخدامه\n",
    "#p معني كدا يشوف اي نمط بيتكرر فيه حرف  p+ يستخدم + لتكرار رمز او حرف معين اكتر من مرة بمعني لو كتبت مثلا \n",
    "pat= 'p+'\n",
    "text= 'apple'\n",
    "re.findall(pat, text)"
   ]
  },
  {
   "cell_type": "code",
   "execution_count": 20,
   "id": "daef023b",
   "metadata": {
    "ExecuteTime": {
     "end_time": "2025-02-23T12:32:15.300117Z",
     "start_time": "2025-02-23T12:32:15.293927Z"
    }
   },
   "outputs": [
    {
     "data": {
      "text/plain": [
       "['user2000', 'gmail', 'com']"
      ]
     },
     "execution_count": 20,
     "metadata": {},
     "output_type": "execute_result"
    }
   ],
   "source": [
    "# مثال اخر\n",
    "pat= '\\w+'\n",
    "text= 'user2000@gmail.com'\n",
    "re.findall(pat,text)"
   ]
  },
  {
   "cell_type": "markdown",
   "id": "1047e62d",
   "metadata": {},
   "source": [
    "**نلاحظ هنا جاب 3 تطابقات طب تعال نفسر الكلام دا**\n",
    "\n",
    "**user2000 تمثل الارقام والحروف فقط عشان كدا جاب\\w متكررة اكتر من مرة وقولنا ان \\w اول حاجة بقول في النمط**\n",
    "\n",
    "**@ لحد ما قابل**\n",
    "\n",
    "**فكدا النمط وقف لان @ مش حرف ولا رقم**\n",
    "\n",
    "**com لحد ما قابل ال . ودي برضو مش ضمن الحروف والارقام وبعد كما بعدها فجاب  gmailوبعدين بداء يمكل بعد @ يشوف في نص بيطابق النمط تاني ولا فجاب**"
   ]
  },
  {
   "cell_type": "code",
   "execution_count": 21,
   "id": "78912e69",
   "metadata": {
    "ExecuteTime": {
     "end_time": "2025-02-23T12:40:59.172802Z",
     "start_time": "2025-02-23T12:40:59.166326Z"
    }
   },
   "outputs": [
    {
     "data": {
      "text/plain": [
       "['user12@mail.com', 'jogn2004@gmail.com', 'mohamed123456@mail.com']"
      ]
     },
     "execution_count": 21,
     "metadata": {},
     "output_type": "execute_result"
    }
   ],
   "source": [
    "# طب لو رجعنا للمثال الاول بتاع الميل وحاولنا نكتب النمط\n",
    "\n",
    "text= \"\"\"\n",
    "user12@mail.com\n",
    "jogn2004@gmail.com\n",
    "mohamed123456@mail.com\n",
    "medo.medo@org.eypt\n",
    "ahmed#gmail.com\n",
    "\"\"\"\n",
    "\n",
    "pat= '\\w+@\\w+.com'\n",
    "\n",
    "re.findall(pat, text)"
   ]
  },
  {
   "cell_type": "markdown",
   "id": "e6f673ff",
   "metadata": {},
   "source": [
    "**نلاحظ هنا انه جاب بالفعل الميل الصح المطابق للنمط اللي كتبناه**"
   ]
  },
  {
   "cell_type": "code",
   "execution_count": 22,
   "id": "ad25ed89",
   "metadata": {
    "ExecuteTime": {
     "end_time": "2025-02-23T12:43:56.324915Z",
     "start_time": "2025-02-23T12:43:56.318548Z"
    }
   },
   "outputs": [
    {
     "data": {
      "text/plain": [
       "['-40C to 150C', '-40C to 180C']"
      ]
     },
     "execution_count": 22,
     "metadata": {},
     "output_type": "execute_result"
    }
   ],
   "source": [
    "# مثال اخر بيطابق درجة حرارة مكونات الكترونية\n",
    "text= 'operating temperature is -40C to 150C and storage temp is -40C to 180C'\n",
    "# مطلب مني استخرج قيمة درجة الحرارة\n",
    "\n",
    "pat= '-\\d+C to \\d+C'\n",
    "\n",
    "re.findall(pat, text)"
   ]
  },
  {
   "cell_type": "markdown",
   "id": "ca0b2aba",
   "metadata": {},
   "source": [
    "**نلاحظ بالفعل تم استخراج القيم بنجاح**"
   ]
  },
  {
   "cell_type": "code",
   "execution_count": null,
   "id": "8deca9e8",
   "metadata": {},
   "outputs": [],
   "source": []
  }
 ],
 "metadata": {
  "kernelspec": {
   "display_name": "Python 3 (ipykernel)",
   "language": "python",
   "name": "python3"
  },
  "language_info": {
   "codemirror_mode": {
    "name": "ipython",
    "version": 3
   },
   "file_extension": ".py",
   "mimetype": "text/x-python",
   "name": "python",
   "nbconvert_exporter": "python",
   "pygments_lexer": "ipython3",
   "version": "3.11.5"
  }
 },
 "nbformat": 4,
 "nbformat_minor": 5
}
